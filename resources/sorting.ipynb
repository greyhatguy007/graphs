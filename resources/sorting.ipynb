{
 "cells": [
  {
   "cell_type": "markdown",
   "source": [
    "# Sorting Algorithms"
   ],
   "metadata": {
    "collapsed": false,
    "pycharm": {
     "name": "#%% md\n"
    }
   }
  },
  {
   "cell_type": "markdown",
   "source": [
    "## Insertion Sort\n",
    "\n",
    "Most simple sorting Algorithm\n",
    "\n",
    "[Working Of Insertion Sort](https://www.geeksforgeeks.org/insertion-sort/?ref=lbp)\n",
    "\n",
    "Time complexity : O(n<sup>2</sup>)\n",
    "\n",
    "**Expensive Algorithm**"
   ],
   "metadata": {
    "collapsed": false,
    "pycharm": {
     "name": "#%% md\n"
    }
   }
  },
  {
   "cell_type": "code",
   "execution_count": 40,
   "outputs": [],
   "source": [
    "def insertion_sort(array) -> None:\n",
    "    print(array)\n",
    "    for i in range(1,len(array)):\n",
    "        j=i\n",
    "        while j>0 and array[j - 1]>array[j]:\n",
    "            array[j],array[j-1]=array[j-1],array[j]\n",
    "            j=j-1\n",
    "            print(array)"
   ],
   "metadata": {
    "collapsed": false,
    "pycharm": {
     "name": "#%%\n"
    }
   }
  },
  {
   "cell_type": "code",
   "execution_count": 32,
   "outputs": [
    {
     "name": "stdout",
     "output_type": "stream",
     "text": [
      "[12, 11, 13, 5, 6]\n",
      "[11, 12, 13, 5, 6]\n",
      "[11, 12, 5, 13, 6]\n",
      "[11, 5, 12, 13, 6]\n",
      "[5, 11, 12, 13, 6]\n",
      "[5, 11, 12, 6, 13]\n",
      "[5, 11, 6, 12, 13]\n",
      "[5, 6, 11, 12, 13]\n"
     ]
    }
   ],
   "source": [
    "insertion_sort([12,11,13,5,6])"
   ],
   "metadata": {
    "collapsed": false,
    "pycharm": {
     "name": "#%%\n"
    }
   }
  },
  {
   "cell_type": "markdown",
   "source": [
    "## Selection Sort\n",
    "\n",
    "Time complexity : O(n<sup>2</sup>)"
   ],
   "metadata": {
    "collapsed": false,
    "pycharm": {
     "name": "#%% md\n"
    }
   }
  },
  {
   "cell_type": "code",
   "execution_count": 50,
   "outputs": [],
   "source": [
    "def selection_sort(l) -> None:\n",
    "    for i in range(len(l)):\n",
    "        for j in range(i,len(l)):\n",
    "            if l[i]>l[j]:\n",
    "                l[i],l[j]=l[j],l[i]\n",
    "            print(l)\n",
    "    return"
   ],
   "metadata": {
    "collapsed": false,
    "pycharm": {
     "name": "#%%\n"
    }
   }
  },
  {
   "cell_type": "code",
   "execution_count": 51,
   "outputs": [
    {
     "name": "stdout",
     "output_type": "stream",
     "text": [
      "[12, 11, 13, 5, 6]\n",
      "[11, 12, 13, 5, 6]\n",
      "[11, 12, 13, 5, 6]\n",
      "[5, 12, 13, 11, 6]\n",
      "[5, 12, 13, 11, 6]\n",
      "[5, 12, 13, 11, 6]\n",
      "[5, 12, 13, 11, 6]\n",
      "[5, 11, 13, 12, 6]\n",
      "[5, 6, 13, 12, 11]\n",
      "[5, 6, 13, 12, 11]\n",
      "[5, 6, 12, 13, 11]\n",
      "[5, 6, 11, 13, 12]\n",
      "[5, 6, 11, 13, 12]\n",
      "[5, 6, 11, 12, 13]\n",
      "[5, 6, 11, 12, 13]\n"
     ]
    }
   ],
   "source": [
    "selection_sort([12,11,13,5,6])"
   ],
   "metadata": {
    "collapsed": false,
    "pycharm": {
     "name": "#%%\n"
    }
   }
  },
  {
   "cell_type": "markdown",
   "source": [
    "## Bubble Sort"
   ],
   "metadata": {
    "collapsed": false,
    "pycharm": {
     "name": "#%% md\n"
    }
   }
  },
  {
   "cell_type": "code",
   "execution_count": 47,
   "outputs": [],
   "source": [
    "def bubble_sort(l) -> None:\n",
    "    print(l)\n",
    "    for i in range(len(l)):\n",
    "        for j in range(0, len(l)-i-1):\n",
    "            if l[j] > l[j+1]:\n",
    "                l[j], l[j+1] = l[j+1], l[j]\n",
    "            print(l)"
   ],
   "metadata": {
    "collapsed": false,
    "pycharm": {
     "name": "#%%\n"
    }
   }
  },
  {
   "cell_type": "code",
   "execution_count": 48,
   "outputs": [
    {
     "name": "stdout",
     "output_type": "stream",
     "text": [
      "[5, 1, 4, 2, 8]\n",
      "[1, 5, 4, 2, 8]\n",
      "[1, 4, 5, 2, 8]\n",
      "[1, 4, 2, 5, 8]\n",
      "[1, 4, 2, 5, 8]\n",
      "[1, 4, 2, 5, 8]\n",
      "[1, 2, 4, 5, 8]\n",
      "[1, 2, 4, 5, 8]\n",
      "[1, 2, 4, 5, 8]\n",
      "[1, 2, 4, 5, 8]\n",
      "[1, 2, 4, 5, 8]\n"
     ]
    }
   ],
   "source": [
    "bubble_sort([5,1,4,2,8])"
   ],
   "metadata": {
    "collapsed": false,
    "pycharm": {
     "name": "#%%\n"
    }
   }
  },
  {
   "cell_type": "markdown",
   "source": [
    "## Shell Sort"
   ],
   "metadata": {
    "collapsed": false,
    "pycharm": {
     "name": "#%% md\n"
    }
   }
  },
  {
   "cell_type": "code",
   "execution_count": 56,
   "outputs": [],
   "source": [
    "def shell_sort(l) -> None:\n",
    "    print(l)\n",
    "    gap = len(l)//2\n",
    "    while gap>0:\n",
    "        j=gap\n",
    "        while j<len(l):\n",
    "            i=j-gap\n",
    "            while i>=0:\n",
    "                if l[i+gap]>l[i]:\n",
    "                    break\n",
    "                else:\n",
    "                    l[i+gap],l[i]=l[i],l[i+gap]\n",
    "                print(l)\n",
    "                i=i-gap\n",
    "            j+=1\n",
    "        gap=gap//2\n",
    "    return"
   ],
   "metadata": {
    "collapsed": false,
    "pycharm": {
     "name": "#%%\n"
    }
   }
  },
  {
   "cell_type": "code",
   "execution_count": 57,
   "outputs": [
    {
     "name": "stdout",
     "output_type": "stream",
     "text": [
      "[30, 15, 40, 60, 10, 70, 80, 50]\n",
      "[10, 15, 40, 60, 30, 70, 80, 50]\n",
      "[10, 15, 40, 50, 30, 70, 80, 60]\n",
      "[10, 15, 30, 50, 40, 70, 80, 60]\n",
      "[10, 15, 30, 50, 40, 60, 80, 70]\n",
      "[10, 15, 30, 40, 50, 60, 80, 70]\n",
      "[10, 15, 30, 40, 50, 60, 70, 80]\n"
     ]
    }
   ],
   "source": [
    "shell_sort([30,15,40,60,10,70,80,50])"
   ],
   "metadata": {
    "collapsed": false,
    "pycharm": {
     "name": "#%%\n"
    }
   }
  },
  {
   "cell_type": "code",
   "execution_count": null,
   "outputs": [],
   "source": [],
   "metadata": {
    "collapsed": false,
    "pycharm": {
     "name": "#%%\n"
    }
   }
  }
 ],
 "metadata": {
  "kernelspec": {
   "display_name": "Python 3",
   "language": "python",
   "name": "python3"
  },
  "language_info": {
   "codemirror_mode": {
    "name": "ipython",
    "version": 2
   },
   "file_extension": ".py",
   "mimetype": "text/x-python",
   "name": "python",
   "nbconvert_exporter": "python",
   "pygments_lexer": "ipython2",
   "version": "2.7.6"
  }
 },
 "nbformat": 4,
 "nbformat_minor": 0
}